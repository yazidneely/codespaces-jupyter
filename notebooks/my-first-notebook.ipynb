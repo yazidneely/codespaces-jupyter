{
 "cells": [
  {
   "cell_type": "markdown",
   "id": "7b0428be",
   "metadata": {},
   "source": [
    "# Introduction to Statistics\n",
    "This notebook will serve as an introduction into statistics and probability"
   ]
  },
  {
   "cell_type": "markdown",
   "id": "c3c96177",
   "metadata": {},
   "source": [
    "# Section 1.0 -  Probability"
   ]
  },
  {
   "cell_type": "markdown",
   "id": "03378a8b",
   "metadata": {},
   "source": [
    "Probability is the likelihood of an event occurring."
   ]
  },
  {
   "cell_type": "markdown",
   "id": "76c80373",
   "metadata": {},
   "source": [
    "$$P(X)=\\frac{Preferred\\;Outcomes}{Sample\\;Space}$$"
   ]
  },
  {
   "cell_type": "markdown",
   "id": "6ccbe06d",
   "metadata": {},
   "source": [
    "An **event** is a set of outcomes from a sample space that we are interested in. In other words an event is the preferred outcomes.<br><br>\n",
    "The Probability Formula:\n",
    "* The Probability of event X occurring equals the **number** of preferred outcomes over the **number** of outcomes in the\n",
    "sample space.\n",
    "* Preferred outcomes are the outcomes we want to occur or the outcomes we are interested in. We also call refer to such\n",
    "outcomes as “Favorable”.\n",
    "* Sample space refers to all possible outcomes that can occur. Its “size” indicates the amount of elements in it.\n",
    "\n",
    "<br>If two events are **independent**:\n",
    "The probability of them occurring simultaneously equals the product of them occurring on their own.<br>\n",
    "For example, the probability of drawing an Ace does not depend of the probability of drawing a spade. So the probability of drawing an Ace of Spaces equals:\n",
    "$$P(A\\spadesuit)=P(A)*P(\\spadesuit)$$\n",
    "$$P(A\\spadesuit)=\\frac{4}{52}*\\frac{13}{52}= 0.0192 \\approx 1.92%$$\n"
   ]
  },
  {
   "cell_type": "markdown",
   "id": "06f362b8",
   "metadata": {
    "vscode": {
     "languageId": "plaintext"
    }
   },
   "source": [
    "## Section 1.1 - Expected Values"
   ]
  },
  {
   "cell_type": "markdown",
   "id": "15b12982",
   "metadata": {},
   "source": [
    "**Trail** - Observing an event occurance and recording the outcome.  \n",
    "**Experiment** - A collection of one or more trails.  \n",
    "**Experimental Probability** - The probability we assign an event, based on an experiment we conduct.  \n",
    "\n",
    "**Expected Value** - The specific outcome we expect to occur when we run an experiment.\n",
    "\n",
    "1. <u>Example of a Trail</u>: Flipping a coin and recording the outcome\n",
    "2. <u>Example of an Experiment</u>: Flipping a coin 20 time and recording the 20 individual outcomes\n",
    "<br><br>\n",
    "\n"
   ]
  },
  {
   "cell_type": "markdown",
   "id": "73efe386",
   "metadata": {},
   "source": [
    "### Expected Value for categorical variables\n",
    "A categorical variable is something like:\n",
    "* Product Ratings (e.g. \"Poor\", \"Average\", \"Good\", \"Excellent\")\n",
    "* Survey responses (e.g. \"Yes\", \"No\", \"Maybe\")\n",
    "\n",
    "A numerical value **n** must be assigned to the variable."
   ]
  },
  {
   "cell_type": "markdown",
   "id": "ef1e5a72",
   "metadata": {},
   "source": [
    "The expected value for categorical variables is $E(X) = n*p$"
   ]
  },
  {
   "cell_type": "markdown",
   "id": "e1951833",
   "metadata": {},
   "source": [
    "#### Example:\n",
    "Lets say we asked 1000 people how statisted they are. With the options being \"Unsatisfied\", \"Neutral\", or \"Satisfied\".<br>\n",
    "Let assume we assigned \"Unsatisfied\" to 1, \"Neutral\" to 2, and \"Satisfied\" to 3. And the results of the survery as such:\n",
    "* \"Unsatisfied\" (score = 1) -> 10 responses\n",
    "* \"Neutral\" (score = 2) -> 30 responses\n",
    "* \"Satisfied (score = 3) -> 60 responses\n",
    "\n",
    "$$E(X) = 1*\\frac{10}{100} + 2*\\frac{30}{100} + 3*\\frac{60}{100} = 2.5"
   ]
  },
  {
   "cell_type": "markdown",
   "id": "ef4b55ba",
   "metadata": {},
   "source": [
    "### Expected Value for numerical variables\n",
    "$$E(X) = \\sum_{i=1}^n x_i*p_i$$"
   ]
  },
  {
   "cell_type": "markdown",
   "id": "2dfef54a",
   "metadata": {},
   "source": []
  },
  {
   "cell_type": "markdown",
   "id": "1db0be81",
   "metadata": {},
   "source": [
    "## Sections 1. 2 - Combinatorics"
   ]
  },
  {
   "cell_type": "markdown",
   "id": "bcb9ffd8",
   "metadata": {},
   "source": [
    "Combinatorics is a branch of mathematics focused on counting, arranging and combinining objects - often under specific rules or constraints"
   ]
  },
  {
   "cell_type": "markdown",
   "id": "910cf2dc",
   "metadata": {},
   "source": [
    "### Section 1.2.1 - Permutations\n",
    "Permutations represent the number of different possible ways we can arrange a number of elements.\n",
    "$$P(n) = n*(n-1)*(n-2)*(n-3)*...*1$$\n",
    "\n",
    "Characteristics of Permutations:\n",
    "* Arranging all elements within the sample space.\n",
    "* No repetition.\n",
    "* $P(n) = n*(n-1)*(n-2)*(n-3)*...*1 = n!$ (Called \"n factorial\")\n",
    "\n",
    "#### Example:\n",
    "* If we need to arrange 3 people, we would have P(3)= 6 ways of doing so.\n",
    "* Assume the people are \"Jabari\", \"Ameer\", \"Tariq\"\n",
    "\n",
    "<br>We could arrange the following ways:\n",
    "1. Jabari, Ameer, Tariq\n",
    "2. Jabari, Tariq, Ameer\n",
    "3. Ameer, Jabari, Tariq\n",
    "4. Ameer, Tariq, Jabari\n",
    "5. Tariq, Jabari, Ameer\n",
    "6. Tariq, Ameer, Jabari\n",
    "\n",
    "### Rules for factorials:\n",
    "* $0!=1$\n",
    "* If $n < 0, n!$ does not exist\n",
    "* $(n + k)! = n!*(n+1)*...*(n+k)$\n",
    "* $(n-k)! = \\frac{n!}{(n-k+1)*...*(n-k+k)} = \\frac{n!}{(n-k+1)*...*(n)}$\n",
    "* $\\frac{n!}{k!}=\\frac{k!*(k+1)*...*n}{k!}=(k+1)*...*n$\n",
    "\n",
    "#### Examples:\n",
    "Let n=7,k=4\n",
    "* $(7 + 4)! = 11! = 7!*8*9*10*11$\n",
    "* $(7-4)! = 3! = \\frac{7!}{4*5*6*7}$\n",
    "* $\\frac{7!}{4!}=5*6*7$"
   ]
  },
  {
   "cell_type": "markdown",
   "id": "b583f9fc",
   "metadata": {
    "vscode": {
     "languageId": "plaintext"
    }
   },
   "source": [
    "### Section 2.2 - Variations\n",
    "Variations represent the number of different possible ways we can <u>pick</u> and <u>arrange</u> a number of elements.<br><br>\n",
    "Variations **with** repetition\n",
    "$$\\overline{V}(n,p) = n^p$$\n",
    "Intution behind the formula (\\w repetition):\n",
    "* We have n-many options for the first element\n",
    "* We still have n-many options for the second element because repetition is allowed.\n",
    "* We have n-many options for each of the p-many elements\n",
    "* $n*n*n*...*n = n^p$\n",
    "\n",
    "<br><br>Variations **without** repetition\n",
    "$$V(n,p)=\\frac{n!}{(n-p)!}$$\n",
    "Intution behind the formula (\\wo repetition):\n",
    "* We have n-many options for the first element\n",
    "* We still have (n-1)-many options for the second element because we can't repeat the value we chose to start with.\n",
    "* We have less options left for each additional element\n",
    "* $n*(n-1)*(n-2)*...*(n-p+1) = \\frac{n!}{(n-p)!}$"
   ]
  },
  {
   "cell_type": "markdown",
   "id": "3d721a4b",
   "metadata": {},
   "source": [
    "### Section 2.3 - Combinations\n",
    "Combinations represent the number of different possible ways we can pick a number of elements.\n",
    "$$C(n,p) = C_p^n = \\frac{n!}{(n-p)!p!}$$\n",
    "Characteristics of Combinations:\n",
    "* Takes into account double-counting. (Selecting Jabari, Ameer, Tariq and Makenna is the same as selecting Makenna, Tariq, Ameer and Jabari)\n",
    "* All the different permutations of a single cobmination are different variations\n",
    "* $$ C = \\frac{V}{P} = \\frac{n!/(n-p)!}{p!} = \\frac{n!}{p!(n-p)!}$$\n",
    "* Combinations are symmetric, so $C_p^n = C_{n-p}^n$, since selectiing p elements is the same as omitting n-p elements\n",
    "\n",
    "#### Section 2.3.1 - Combinations where order matters\n",
    "$$\\overline{C}_p^n = C_p^{n+p-1}$$\n",
    "In this case, selecting Jabari, Ameer, Tariq and Makenna is **NOT** the same as selecting Makenna, Tariq, Ameer and Jabari\n",
    "\n",
    "#### Section 2.3.2 - Combinations with seperate sample spaces\n",
    "Combinations represent the number of different possible ways we can pick a number of elements.\n",
    "$$ C = n_1 * n_2 *...* n_p$$\n",
    "where $n_1$ is the size of the first sample space, $n_2$ is the size of the second sample space,...,$n_p$ is the size of the p-th sample space\n",
    "Characteristics of Combinations with separate sample spaces:\n",
    "* The option we choose for any element does not affect the number of options for the other elements.\n",
    "* The order in which we pick the individual elements is arbitrary.\n",
    "* We need to know the size of the sample space for each individual element. $(n_1,n_2...n_p)$"
   ]
  },
  {
   "cell_type": "markdown",
   "id": "162c8c43",
   "metadata": {},
   "source": [
    "## Section 1.3 - Bayesian Notation"
   ]
  },
  {
   "cell_type": "markdown",
   "id": "229ba7fb",
   "metadata": {},
   "source": [
    "### Section 1.3.1 - Sets\n",
    "A **set** is a collection of elements, which hold certain values. Additionally, every event has a set of outcomes\n",
    "that satisfy it.\n",
    "The null-set (or empty set), denoted $\\emptyset$, is an set which contain no values.\n",
    "\n",
    "$$x \\in A$$\n",
    "where the Element x is lower-case and the Set A is upper-case<br>\n",
    "Notation:\n",
    "* $x \\in A$ means \"Element x is a part of set A\". Example: $2 \\in All\\,even\\,numbers$\n",
    "* $A \\ni x$ means \"Set A contains element x\". Example: $All\\,even\\,numbers \\ni 2$\n",
    "* $x \\notin A$ means \"Element x is NOT a part of set A'. Example $1 \\in All\\,even\\,numbers$\n",
    "* $\\forall x:$ means \"For all/any x such that...\". Example: $\\forall x:x \\in All\\,even\\,numbers$\n",
    "* $A \\subseteq B$ means \"A is a subset of B\"   Example: $Even\\,numbers \\subseteq Intergers$\n",
    "\n",
    "Remember! Every set has at least 2 subsets\n",
    "* $ A \\subseteq A$\n",
    "* $ \\emptyset \\subseteq A$"
   ]
  }
 ],
 "metadata": {
  "language_info": {
   "name": "python"
  }
 },
 "nbformat": 4,
 "nbformat_minor": 5
}
