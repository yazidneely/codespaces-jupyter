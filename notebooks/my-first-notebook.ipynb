{
 "cells": [
  {
   "cell_type": "markdown",
   "id": "7b0428be",
   "metadata": {},
   "source": [
    "# Introduction to Statistics\n",
    "This notebook will serve as an introduction into statistics and probability"
   ]
  },
  {
   "cell_type": "markdown",
   "id": "c3c96177",
   "metadata": {},
   "source": [
    "## Probability\n",
    "Probability is the likelihood of an event occurring."
   ]
  },
  {
   "cell_type": "markdown",
   "id": "76c80373",
   "metadata": {},
   "source": [
    "$$P(X)=\\frac{Preferred\\;Outcomes}{Sample\\;Space}$$"
   ]
  },
  {
   "cell_type": "markdown",
   "id": "6ccbe06d",
   "metadata": {},
   "source": [
    "An **event** is a set of outcomes from a sample space that we are interested in. In other words an event is the preferred outcomes.<br><br>\n",
    "The Probability Formula:\n",
    "* The Probability of event X occurring equals the **number** of preferred outcomes over the **number** of outcomes in the\n",
    "sample space.\n",
    "* Preferred outcomes are the outcomes we want to occur or the outcomes we are interested in. We also call refer to such\n",
    "outcomes as “Favorable”.\n",
    "* Sample space refers to all possible outcomes that can occur. Its “size” indicates the amount of elements in it.\n",
    "\n",
    "<br>If two events are **independent**:\n",
    "The probability of them occurring simultaneously equals the product of them occurring on their own.<br>\n",
    "For example, the probability of drawing an Ace does not depend of the probability of drawing a spade. So the probability of drawing an Ace of Spaces equals:\n",
    "$$P(A\\spadesuit)=P(A)*P(\\spadesuit)$$\n",
    "$$P(A\\spadesuit)=\\frac{4}{52}*\\frac{13}{52}= 0.0192 \\approx 1.92%$$\n"
   ]
  },
  {
   "cell_type": "markdown",
   "id": "15b12982",
   "metadata": {},
   "source": [
    "## Expected Values\n",
    "**Trail** - Observing an event occurance and recording the outcome.  \n",
    "**Experiment** - A collection of one or more trails.  \n",
    "**Experimental Probability** - The probability we assign an event, based on an experiment we conduct.  \n",
    "\n",
    "**Expected Value** - The specific outcome we expect to occur when we run an experiment.\n",
    "\n",
    "1. <u>Example of a Trail</u>: Flipping a coin and recording the outcome\n",
    "2. <u>Example of an Experiment</u>: Flipping a coin 20 time and recording the 20 individual outcomes\n",
    "<br><br>\n",
    "\n"
   ]
  },
  {
   "cell_type": "markdown",
   "id": "73efe386",
   "metadata": {},
   "source": [
    "### Expected Value for categorical variables\n",
    "A categorical variable is something like:\n",
    "* Product Ratings (e.g. \"Poor\", \"Average\", \"Good\", \"Excellent\")\n",
    "* Survey responses (e.g. \"Yes\", \"No\", \"Maybe\")\n",
    "\n",
    "A numerical value **n** must be assigned to the variable."
   ]
  },
  {
   "cell_type": "markdown",
   "id": "ef1e5a72",
   "metadata": {},
   "source": [
    "The expected value for categorical variables is $E(X) = n*p$"
   ]
  },
  {
   "cell_type": "markdown",
   "id": "e1951833",
   "metadata": {},
   "source": [
    "For example, lets say we asked 1000 people how statisted they are. With the options being \"Unsatisfied\", \"Neutral\", or \"Satisfied\".<br>\n",
    "Let assume we assigned \"Unsatisfied\" to 1, \"Neutral\" to 2, and \"Satisfied\" to 3. And the results of the survery as such:\n",
    "* \"Unsatisfied\" (score = 1) -> 10 responses\n",
    "* \"Neutral\" (score = 2) -> 30 responses\n",
    "* \"Satisfied (score = 3) -> 60 responses\n",
    "\n",
    "$$E(X) = 1*\\frac{10}{100} + 2*\\frac{30}{100} + 3*\\frac{60}{100} = 2.5"
   ]
  },
  {
   "cell_type": "markdown",
   "id": "ef4b55ba",
   "metadata": {},
   "source": [
    "### Expected Value for numerical variables\n",
    "$$E(X) = \\sum_{i=1}^n x_i*p_i$$"
   ]
  }
 ],
 "metadata": {
  "language_info": {
   "name": "python"
  }
 },
 "nbformat": 4,
 "nbformat_minor": 5
}
